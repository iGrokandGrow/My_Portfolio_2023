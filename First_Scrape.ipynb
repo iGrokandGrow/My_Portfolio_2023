{
  "nbformat": 4,
  "nbformat_minor": 0,
  "metadata": {
    "colab": {
      "provenance": [],
      "authorship_tag": "ABX9TyO2TyJVIE9+dGnUb6oRIY02",
      "include_colab_link": true
    },
    "kernelspec": {
      "name": "python3",
      "display_name": "Python 3"
    },
    "language_info": {
      "name": "python"
    }
  },
  "cells": [
    {
      "cell_type": "markdown",
      "metadata": {
        "id": "view-in-github",
        "colab_type": "text"
      },
      "source": [
        "<a href=\"https://colab.research.google.com/github/iGrokandGrow/My_Portfolio_2023/blob/main/First_Scrape.ipynb\" target=\"_parent\"><img src=\"https://colab.research.google.com/assets/colab-badge.svg\" alt=\"Open In Colab\"/></a>"
      ]
    },
    {
      "cell_type": "code",
      "execution_count": 58,
      "metadata": {
        "id": "8yBw2fgupFoG",
        "colab": {
          "base_uri": "https://localhost:8080/"
        },
        "outputId": "00200b80-0fd6-40c9-e001-2e21626236c0"
      },
      "outputs": [
        {
          "output_type": "stream",
          "name": "stdout",
          "text": [
            "\n",
            "\n",
            "\n",
            "\n",
            "\n",
            "\n",
            "\n",
            "\n",
            "\n",
            "\n",
            "\n",
            "             J Beverly Hills\n",
            "            \n",
            "\n",
            "             Created from nature's purest ingredients and organically derived compounds, J Beverly Hills controls the brand quality by developing its formulations in-house and manufacturing its innovative products at our state-of-the-art industrial and environmentally responsible facility.\n",
            "            \n",
            "\n",
            "             Shop J Beverly Hills\n",
            "            \n",
            "\n",
            "\n",
            "\n",
            "\n",
            "\n",
            "\n",
            "\n",
            "\n",
            "\n",
            "\n",
            "\n",
            "\n",
            "             Freyja\n",
            "            \n",
            "\n",
            "             Inspired by the strength, beauty, timelessness and natural power of the Nordic wilderness and with a passion to bring the most premium quality CBD products into the beauty industry, Freyja CBD Treatment is the realization of years of research, development and relentless effort.\n",
            "            \n",
            "\n",
            "             Shop Freyja\n",
            "            \n",
            "\n",
            "\n",
            "\n",
            "\n",
            "\n",
            "\n",
            "\n",
            "\n",
            "\n",
            "\n",
            "\n",
            "\n",
            "             Framar\n",
            "            \n",
            "\n",
            "             Everything you need for the color room, in one location. From foil, to brushes, clips, and all of your favorite accessories. Framar products provide you with all the advantages needed for being a top-notch colorist!\n",
            "             \n",
            "\n",
            "\n",
            "             Shop Framar\n",
            "            \n",
            "\n",
            "\n",
            "\n",
            "\n",
            "\n",
            "\n",
            "\n",
            "\n",
            "\n",
            "\n",
            "\n",
            "\n",
            "             Elgon\n",
            "            \n",
            "\n",
            "             Elgon is the brand for professional hairdressers that creates the best customizable products to enhance the uniqueness of people.\n",
            "            \n",
            "\n",
            "             Learn More\n",
            "            \n",
            "\n",
            "\n",
            "\n",
            "\n",
            "\n",
            "\n",
            "\n"
          ]
        }
      ],
      "source": [
        "import pandas as pd\n",
        "from bs4 import BeautifulSoup as bs\n",
        "import requests\n",
        "import time\n",
        "import datetime\n",
        "import smtplib\n",
        "import urllib\n",
        "from IPython.utils.text import get_text_list\n",
        "\n",
        "#connect to url\n",
        "\n",
        "url = \"https://prosalonconcepts.com/Hair-Coulour\"\n",
        "\n",
        "headers = {\"User-Agent\": \"Mozilla/5.0 (Macintosh; Intel Mac OS X 10_15_7) AppleWebKit/537.36 (KHTML, like Gecko) Chrome/116.0.0.0 Safari/537.36\", \"X-Amzn-Trace-Id\": \"Root=1-64f74417-02cdba216aade2d519244834\"}\n",
        "\n",
        "page = requests.get(url, headers=headers)\n",
        "\n",
        "soup1 = bs (page.content, \"html.parser\")\n",
        "\n",
        "soup2 = bs (soup1.prettify(), \"html.parser\")\n",
        "\n",
        "prods = soup2.find(id='oms_154').get_text()\n",
        "\n",
        "print(prods)\n",
        "\n",
        "\n",
        "\n",
        "\n",
        "\n",
        "\n",
        "\n",
        "\n",
        "\n",
        "\n",
        "\n",
        "\n",
        "\n",
        "\n",
        "\n"
      ]
    },
    {
      "cell_type": "code",
      "source": [],
      "metadata": {
        "id": "x2roh_XBp5Wm"
      },
      "execution_count": null,
      "outputs": []
    },
    {
      "cell_type": "code",
      "source": [],
      "metadata": {
        "id": "p5oJONSiq1Lc"
      },
      "execution_count": null,
      "outputs": []
    }
  ]
}